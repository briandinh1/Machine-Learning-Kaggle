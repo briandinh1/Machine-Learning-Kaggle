{
 "cells": [
  {
   "cell_type": "code",
   "execution_count": 1,
   "metadata": {
    "collapsed": false
   },
   "outputs": [],
   "source": [
    "import numpy as np\n",
    "from sklearn.model_selection import train_test_split\n",
    "\n",
    "X = np.loadtxt('data/X_train.txt')\n",
    "Y = np.loadtxt('data/Y_train.txt')\n",
    "Xe = np.loadtxt('data/X_test.txt')\n",
    "\n",
    "Xt, Xv = X[0:25000], X[25000:50000]\n",
    "Yt, Yv = Y[0:25000], Y[25000:50000]\n",
    "#X_train, X_val, Y_train, Y_val = train_test_split(X_train, y_train, test_size=0.1, random_state=42)"
   ]
  },
  {
   "cell_type": "code",
   "execution_count": 2,
   "metadata": {
    "collapsed": false
   },
   "outputs": [],
   "source": [
    "from sklearn.preprocessing import StandardScaler\n",
    "scaler = StandardScaler()\n",
    "# Fit only to the training data\n",
    "scaler.fit(Xt)\n",
    "# Now apply the transformations to the data:\n",
    "Xt1 = scaler.transform(Xt)\n",
    "Xv1 = scaler.transform(Xv)\n",
    "\n",
    "\n",
    "from sklearn.decomposition import PCA, KernelPCA, TruncatedSVD\n",
    "# svd = TruncatedSVD(n_components=5, n_iter=7, random_state=42)\n",
    "# Xt_new = svd.fit_transform(Xt)\n",
    "# Xt_new = svd.fit_transform(Xv)\n",
    "\n",
    "from sklearn.feature_selection import SelectPercentile\n",
    "# sel = SelectPercentile(percentile=50)\n",
    "# Xt_new = sel.fit_transform(Xt,Yt)\n",
    "# Xv_new = sel.fit_transform(Xv,Yv)\n",
    "\n",
    "\n",
    "from sklearn.feature_selection import SelectKBest, f_classif\n",
    "Xt_new = SelectKBest(f_classif, k=8).fit_transform(Xt1, Yt)\n",
    "Xv_new = SelectKBest(f_classif, k=8).fit_transform(Xv1, Yv)\n",
    "# X_new = SelectKBest(f_classif, k=8).fit_transform(X, Y)\n",
    "# Xe_new = SelectKBest(f_classif, k=8).fit_transform(X, Y)\n",
    "\n",
    "from sklearn.linear_model import RandomizedLogisticRegression\n",
    "rl = RandomizedLogisticRegression()\n",
    "Xt_new = rl.fit_transform(Xt, Yt)\n",
    "Xv_new = rl.fit_transform(Xv, Yv)"
   ]
  },
  {
   "cell_type": "code",
   "execution_count": 3,
   "metadata": {
    "collapsed": false
   },
   "outputs": [
    {
     "data": {
      "text/plain": [
       "SVC(C=2.0, cache_size=200, class_weight=None, coef0=0.0,\n",
       "  decision_function_shape=None, degree=3, gamma='auto', kernel='rbf',\n",
       "  max_iter=-1, probability=True, random_state=None, shrinking=True,\n",
       "  tol=0.001, verbose=False)"
      ]
     },
     "execution_count": 3,
     "metadata": {},
     "output_type": "execute_result"
    }
   ],
   "source": [
    "from sklearn.svm import SVC\n",
    "#clf2 = SVC(C=1.0, gamma=1.0, class_weight='balanced', probability=True)\n",
    "clf2 = SVC(C=2.0, class_weight='balanced', probability=True)\n",
    "clf2.fit(Xt_new, Yt) "
   ]
  },
  {
   "cell_type": "code",
   "execution_count": 4,
   "metadata": {
    "collapsed": false
   },
   "outputs": [
    {
     "name": "stdout",
     "output_type": "stream",
     "text": [
      "SVM: Training Score ~ 0.90292\n",
      "AUC =  0.923110313773\n",
      "SVM: Validation Score ~ 0.65964\n",
      "AUC =  0.51993978911\n"
     ]
    }
   ],
   "source": [
    "from sklearn.metrics import roc_auc_score\n",
    "\n",
    "YtPred = clf2.predict_proba(Xt_new)\n",
    "#YtPred = clf2.predict(Xt_new)\n",
    "print \"SVM: Training Score ~\", clf2.score(Xt_new,Yt)\n",
    "print 'AUC = ',roc_auc_score(Yt, YtPred[:,1])\n",
    "\n",
    "YvPred = clf2.predict_proba(Xv_new)\n",
    "#YvPred = clf2.predict(Xv_new)\n",
    "print \"SVM: Validation Score ~\", clf2.score(Xv_new,Yv)\n",
    "print 'AUC = ',roc_auc_score(Yv, YvPred[:,1])"
   ]
  },
  {
   "cell_type": "code",
   "execution_count": 5,
   "metadata": {
    "collapsed": false
   },
   "outputs": [
    {
     "ename": "NameError",
     "evalue": "name 'Xe_new' is not defined",
     "output_type": "error",
     "traceback": [
      "\u001b[0;31m---------------------------------------------------------------------------\u001b[0m",
      "\u001b[0;31mNameError\u001b[0m                                 Traceback (most recent call last)",
      "\u001b[0;32m<ipython-input-5-2ac9821e0468>\u001b[0m in \u001b[0;36m<module>\u001b[0;34m()\u001b[0m\n\u001b[1;32m      2\u001b[0m \u001b[1;31m# Xe_new = np.delete(Xe, del_features, axis=1)\u001b[0m\u001b[1;33m\u001b[0m\u001b[1;33m\u001b[0m\u001b[0m\n\u001b[1;32m      3\u001b[0m \u001b[1;33m\u001b[0m\u001b[0m\n\u001b[0;32m----> 4\u001b[0;31m \u001b[0mYtePred\u001b[0m \u001b[1;33m=\u001b[0m \u001b[0mclf2\u001b[0m\u001b[1;33m.\u001b[0m\u001b[0mpredict_proba\u001b[0m\u001b[1;33m(\u001b[0m\u001b[0mXe_new\u001b[0m\u001b[1;33m)\u001b[0m\u001b[1;33m[\u001b[0m\u001b[1;33m:\u001b[0m\u001b[1;33m,\u001b[0m\u001b[1;36m1\u001b[0m\u001b[1;33m]\u001b[0m\u001b[1;33m\u001b[0m\u001b[0m\n\u001b[0m\u001b[1;32m      5\u001b[0m np.savetxt('Yhat_SVM.txt',\n\u001b[1;32m      6\u001b[0m     \u001b[0mnp\u001b[0m\u001b[1;33m.\u001b[0m\u001b[0mvstack\u001b[0m\u001b[1;33m(\u001b[0m \u001b[1;33m(\u001b[0m\u001b[0mnp\u001b[0m\u001b[1;33m.\u001b[0m\u001b[0marange\u001b[0m\u001b[1;33m(\u001b[0m\u001b[0mlen\u001b[0m\u001b[1;33m(\u001b[0m\u001b[0mYtePred\u001b[0m\u001b[1;33m)\u001b[0m\u001b[1;33m)\u001b[0m \u001b[1;33m,\u001b[0m \u001b[0mYtePred\u001b[0m\u001b[1;33m)\u001b[0m \u001b[1;33m)\u001b[0m\u001b[1;33m.\u001b[0m\u001b[0mT\u001b[0m\u001b[1;33m,\u001b[0m\u001b[1;33m\u001b[0m\u001b[0m\n",
      "\u001b[0;31mNameError\u001b[0m: name 'Xe_new' is not defined"
     ]
    }
   ],
   "source": [
    "# del_features = [i for i in range(len(rl.scores_)) if rl.scores_[i] < 0.25]\n",
    "# Xe_new = np.delete(Xe, del_features, axis=1)\n",
    "\n",
    "# YtePred = clf2.predict_proba(Xe_new)[:,1]\n",
    "# np.savetxt('Yhat_SVM.txt',\n",
    "#     np.vstack( (np.arange(len(YtePred)) , YtePred) ).T,\n",
    "#     '%d, %.2f',header='ID,Prob1',comments='',delimiter=',');"
   ]
  },
  {
   "cell_type": "code",
   "execution_count": null,
   "metadata": {
    "collapsed": true
   },
   "outputs": [],
   "source": []
  }
 ],
 "metadata": {
  "kernelspec": {
   "display_name": "Python [conda root]",
   "language": "python",
   "name": "conda-root-py"
  },
  "language_info": {
   "codemirror_mode": {
    "name": "ipython",
    "version": 2
   },
   "file_extension": ".py",
   "mimetype": "text/x-python",
   "name": "python",
   "nbconvert_exporter": "python",
   "pygments_lexer": "ipython2",
   "version": "2.7.12"
  }
 },
 "nbformat": 4,
 "nbformat_minor": 1
}
