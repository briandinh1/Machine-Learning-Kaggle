{
 "cells": [
  {
   "cell_type": "code",
   "execution_count": null,
   "metadata": {
    "collapsed": false
   },
   "outputs": [],
   "source": [
    "import numpy as np\n",
    "np.random.seed(0)\n",
    "import mltools as ml\n",
    "import matplotlib.pyplot as plt   # use matplotlib for plotting with inline plots\n",
    "%matplotlib inline\n",
    "\n",
    "# X = np.genfromtxt(\"project/X_train.txt\",delimiter=' ')\n",
    "# Y = np.genfromtxt(\"project/Y_train.txt\",delimiter=' ')\n",
    "# Xt,Xv,Yt,Yv = ml.splitData(X,Y,0.80)\n",
    "\n",
    "# Xe = np.genfromtxt('project/X_test.txt',delimiter=' ')"
   ]
  },
  {
   "cell_type": "code",
   "execution_count": null,
   "metadata": {
    "collapsed": false
   },
   "outputs": [],
   "source": [
    "# import sklearn\n",
    "# from sklearn.linear_model import LogisticRegression\n",
    "# from sklearn import metrics\n",
    "# from sklearn.kernel_approximation import RBFSampler\n",
    "# from sklearn.cross_validation import train_test_split\n",
    "\n",
    "# Xt = np.loadtxt('project/X_train.txt')\n",
    "# Yt = np.loadtxt('project/Y_train.txt')\n",
    "# Xte = np.loadtxt('project/X_test.txt')\n",
    "# Xt, Xv, Yt, Yv = train_test_split(Xt, Yt, test_size=0.1, random_state=42)\n",
    "\n",
    "# rbf_feature = RBFSampler(gamma=1, random_state=1)\n",
    "# XtC = rbf_feature.fit_transform(Xt)\n",
    "# XvC = rbf_feature.fit_transform(Xv)"
   ]
  },
  {
   "cell_type": "code",
   "execution_count": null,
   "metadata": {
    "collapsed": false
   },
   "outputs": [],
   "source": [
    "# from sklearn.linear_model import LogisticRegression\n",
    "# from sklearn import metrics\n",
    "# from sklearn.kernel_approximation import RBFSampler\n",
    "\n",
    "# rbf_feature = RBFSampler(gamma=1, random_state=1)\n",
    "# XtC = rbf_feature.fit_transform(Xt)\n",
    "# XvC = rbf_feature.fit_transform(Xv)"
   ]
  },
  {
   "cell_type": "code",
   "execution_count": null,
   "metadata": {
    "collapsed": true
   },
   "outputs": [],
   "source": [
    "# Xte = np.genfromtxt(\"data/X_test.txt\", delimiter=None)\n",
    "# Ypred = predictSoftEnsemble(Xte, kaggleEnsemble)\n",
    "\n",
    "# # Now output a file with two columns, a row ID and a confidence in class 1:\n",
    "# np.savetxt('Yhat_dtree2.txt',\n",
    "#     np.vstack( (np.arange(len(Ypred)) , Ypred) ).T,\n",
    "#     '%d, %.2f',header='ID,Prob1',comments='',delimiter=',');"
   ]
  },
  {
   "cell_type": "code",
   "execution_count": null,
   "metadata": {
    "collapsed": false
   },
   "outputs": [],
   "source": [
    "# nClust = 15\n",
    "# np.random.seed(0)\n",
    "# Z,T,pZ,ll = ml.cluster.gmmEM(Xt[:10000,:],K=nClust,init='k++',max_iter=50)\n",
    "\n",
    "# # from sklearn import mixture\n",
    "# # gmmEM = mixture.GaussianMixture(max_iter=50, n_components=n_clust)\n",
    "# # gmm.fit(X)\n",
    "\n",
    "\n",
    "# Cluster_GMM = ml.bayes.gaussClassify()\n",
    "# # Manually copy the EM Gaussian components into the Gaussian Bayes Classifier:\n",
    "# Cluster_GMM.classes = np.arange(nClust)\n",
    "# Cluster_GMM.means = T['mu']\n",
    "# Cluster_GMM.covars = [ T['sig'][:,:,i]+.05*np.eye(Xt.shape[1]) for i in range(nClust) ]\n",
    "# Cluster_GMM.probs = T['pi']\n",
    "\n",
    "# # Find cluster membership probabilities for each data set:\n",
    "# XtC = Cluster_GMM.predictSoft(Xt)\n",
    "# XvC = Cluster_GMM.predictSoft(Xv)\n",
    "# XeC = Cluster_GMM.predictSoft(Xe)\n",
    "\n",
    "# # Create extended feature set:  features X times membership probability for each cluster\n",
    "# XtC2 = np.einsum('ij,ik->ijk',XtC,Xt).reshape((Xt.shape[0],Xt.shape[1]*nClust))\n",
    "# XvC2 = np.einsum('ij,ik->ijk',XvC,Xv).reshape((Xv.shape[0],Xv.shape[1]*nClust))\n",
    "# XeC2 = np.einsum('ij,ik->ijk',XeC,Xe).reshape((Xe.shape[0],Xe.shape[1]*nClust))\n",
    "\n",
    "# print XtC2"
   ]
  },
  {
   "cell_type": "code",
   "execution_count": null,
   "metadata": {
    "collapsed": false
   },
   "outputs": [],
   "source": [
    "# XtC2 = ml.transforms.rescale(XtC2)\n",
    "# XvC2 = ml.transforms.rescale(XvC2)\n",
    "# XeC2 = ml.transforms.rescale(XeC2)\n",
    "\n",
    "# print\n",
    "# print XtC2\n",
    "\n",
    "#classifier = ml.linearC.linearClassify(XtC,Yt,reg=1e-3)\n",
    "#print \"3: Clustered Classifier: Error ~\",classifier.err(XvC,Yv)\n",
    "#print 'AUC = ',auc(PvClass3,Yv)\n"
   ]
  }
 ],
 "metadata": {
  "anaconda-cloud": {},
  "kernelspec": {
   "display_name": "Python [conda root]",
   "language": "python",
   "name": "conda-root-py"
  },
  "language_info": {
   "codemirror_mode": {
    "name": "ipython",
    "version": 2
   },
   "file_extension": ".py",
   "mimetype": "text/x-python",
   "name": "python",
   "nbconvert_exporter": "python",
   "pygments_lexer": "ipython2",
   "version": "2.7.12"
  }
 },
 "nbformat": 4,
 "nbformat_minor": 1
}
