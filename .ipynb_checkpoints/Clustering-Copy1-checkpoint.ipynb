{
 "cells": [
  {
   "cell_type": "code",
   "execution_count": 28,
   "metadata": {
    "collapsed": false
   },
   "outputs": [],
   "source": [
    "import numpy as np\n",
    "np.random.seed(0)\n",
    "import mltools as ml\n",
    "import matplotlib.pyplot as plt   # use matplotlib for plotting with inline plots\n",
    "=%matplotlib inline\n",
    "\n",
    "X = np.genfromtxt(\"project/X_train.txt\",delimiter=' ')\n",
    "Y = np.genfromtxt(\"project/Y_train.txt\",delimiter=' ')\n",
    "Xt,Xv,Yt,Yv = ml.splitData(X,Y,0.80)\n",
    "\n",
    "Xe = np.genfromtxt('project/X_test.txt',delimiter=' ')"
   ]
  },
  {
   "cell_type": "code",
   "execution_count": 11,
   "metadata": {
    "collapsed": true
   },
   "outputs": [],
   "source": [
    "def auc(soft,Y):\n",
    "    \"\"\"Manual AUC function for applying to soft prediction vectors\"\"\"\n",
    "    indices = np.argsort(soft)         # sort data by score value\n",
    "    Y = Y[indices]\n",
    "    sorted_soft = soft[indices]\n",
    "    \n",
    "    # compute rank (averaged for ties) of sorted data\n",
    "    dif = np.hstack( ([True],np.diff(sorted_soft)!=0,[True]) )\n",
    "    r1  = np.argwhere(dif).flatten()\n",
    "    r2  = r1[0:-1] + 0.5*(r1[1:]-r1[0:-1]) + 0.5\n",
    "    rnk = r2[np.cumsum(dif[:-1])-1]\n",
    "    \n",
    "    # number of true negatives and positives\n",
    "    n0,n1 = sum(Y == 0), sum(Y == 1)\n",
    "    \n",
    "    # compute AUC using Mann-Whitney U statistic\n",
    "    result = (np.sum(rnk[Y == 1]) - n1 * (n1 + 1.0) / 2.0) / n1 / n0\n",
    "    return result"
   ]
  },
  {
   "cell_type": "code",
   "execution_count": 39,
   "metadata": {
    "collapsed": false
   },
   "outputs": [],
   "source": []
  },
  {
   "cell_type": "code",
   "execution_count": 21,
   "metadata": {
    "collapsed": false
   },
   "outputs": [
    {
     "name": "stdout",
     "output_type": "stream",
     "text": [
      "[ 12.   0.   8. ...,  12.   7.  12.]\n",
      "[[  2.44335112e+02   2.32804320e+02   2.44325483e+02   2.38215845e+02\n",
      "    4.17238855e+02   6.23231046e+01   4.72696800e+00   4.22867542e+00\n",
      "    5.40603951e+00   1.09730011e+00   5.66245216e+00   3.17168501e+00\n",
      "    1.37586355e+01   3.78553805e+00]\n",
      " [  2.43061824e+02   2.28836781e+02   2.43031942e+02   2.33410014e+02\n",
      "    7.83247599e+03   9.30246790e+02   2.17165953e+00   2.29655452e+00\n",
      "    5.71775922e+00   1.47736894e+00   2.63598730e+00   1.71433397e+00\n",
      "    1.37092770e+01   4.25684736e+00]\n",
      " [  2.37841228e+02   2.22853801e+02   2.38261023e+02   2.29431901e+02\n",
      "    2.65271901e+04   1.03897339e+04   5.40935673e+00   3.04636058e+00\n",
      "    6.63401462e+00   2.21524678e+00   2.39423596e+00   1.42956725e+00\n",
      "    2.06190789e+00   6.13421053e+00]\n",
      " [  2.40045368e+02   2.23720588e+02   2.39972868e+02   2.31622978e+02\n",
      "    1.87402868e+04   3.72677206e+03   2.81029412e+01   1.84530202e+00\n",
      "    5.68942426e+00   1.99115919e+00   1.92811360e+00   1.06202533e+00\n",
      "    4.33125257e+00   4.37536765e+00]\n",
      " [  2.43525602e+02   2.29240608e+02   2.43525614e+02   2.33999153e+02\n",
      "    4.90718567e+03   5.69630489e+02   3.83018868e+00   2.45242469e+00\n",
      "    5.64637444e+00   1.48476097e+00   2.73850215e+00   1.69802365e+00\n",
      "    1.26469635e+01   2.75217899e+00]\n",
      " [  2.42621277e+02   2.27922886e+02   2.42542528e+02   2.32783274e+02\n",
      "    2.84064730e+03   4.84070705e+02   1.01569154e+01   2.83891554e+00\n",
      "    6.19537416e+00   1.88940074e+00   3.23981178e+00   2.10577407e+00\n",
      "    9.99171236e+00   2.14842878e+00]\n",
      " [  2.18816291e+02   1.98688427e+02   2.21211335e+02   2.10479733e+02\n",
      "    1.43504659e+04   1.10994303e+04   8.04964095e+03   1.53820656e+00\n",
      "    1.46237329e+01   8.54416884e+00   2.80273858e+00   3.18265341e+00\n",
      "    1.22434036e+00   5.12189911e+01]\n",
      " [  2.33408517e+02   2.15038641e+02   2.33243516e+02   2.21109217e+02\n",
      "    3.34020256e+03   1.88407200e+03   3.82023998e+02   2.30058696e+00\n",
      "    9.59433256e+00   4.75821165e+00   3.86967740e+00   3.31203480e+00\n",
      "    1.82279380e+00   1.48540777e+01]\n",
      " [  2.33802149e+02   2.14676867e+02   2.33942453e+02   2.21837873e+02\n",
      "    5.73027042e+03   3.07457293e+03   6.89404422e+02   2.08369246e+00\n",
      "    9.78589976e+00   4.91335012e+00   3.41921316e+00   2.85776088e+00\n",
      "    2.09855198e+00   1.34888649e+01]\n",
      " [  2.32499830e+02   2.11543083e+02   2.32207464e+02   2.17706274e+02\n",
      "    1.25752633e+04   7.94375485e+03   1.68291019e+03   1.50986318e+00\n",
      "    9.80433665e+00   5.28916626e+00   2.81612621e+00   2.78239272e+00\n",
      "    1.45900983e+00   9.06504854e+00]\n",
      " [  2.40790152e+02   2.23716573e+02   2.40601781e+02   2.29992242e+02\n",
      "    1.19717697e+04   3.02125281e+03   3.32314607e+01   2.06241397e+00\n",
      "    6.90009871e+00   2.53286695e+00   2.62424955e+00   1.68987986e+00\n",
      "    1.39536491e+01   5.37741573e+00]\n",
      " [  2.40349474e+02   2.26609023e+02   2.41069511e+02   2.33409549e+02\n",
      "    2.90674474e+04   4.83269925e+03   0.00000000e+00   6.72169921e+00\n",
      "    5.66333985e+00   1.53864511e+00   1.92669887e+00   1.11807218e+00\n",
      "    3.70309060e+00   5.47142857e+00]\n",
      " [  2.41126168e+02   2.26562057e+02   2.41134260e+02   2.31762847e+02\n",
      "    1.47449142e+03   3.57043500e+02   4.74548083e+01   3.24174353e+00\n",
      "    6.73539913e+00   2.27690641e+00   4.08727809e+00   2.78953610e+00\n",
      "    9.01647710e+00   7.24263213e+00]\n",
      " [  2.37049294e+02   2.17404087e+02   2.36554482e+02   2.23903484e+02\n",
      "    8.76800511e+03   4.00041988e+03   4.73758941e+02   2.26080889e+00\n",
      "    8.78255146e+00   4.02586716e+00   2.87814389e+00   2.41705745e+00\n",
      "    1.92392383e+00   7.69261496e+00]\n",
      " [  2.34477618e+02   2.16407353e+02   2.34900029e+02   2.23303294e+02\n",
      "    1.82073471e+04   9.87183529e+03   1.06877353e+03   3.12876176e+00\n",
      "    8.21357029e+00   3.99262676e+00   2.56809500e+00   2.21122176e+00\n",
      "    1.89784206e+00   8.40794118e+00]]\n",
      "[ 0  1  2  3  4  5  6  7  8  9 10 11 12 13 14]\n"
     ]
    }
   ],
   "source": [
    "k = 15\n",
    "z,c,sumd = ml.cluster.kmeans( Xt, k, 'k++' )\n",
    "print z\n",
    "print c\n",
    "print np.arange(k)"
   ]
  },
  {
   "cell_type": "code",
   "execution_count": 30,
   "metadata": {
    "collapsed": false
   },
   "outputs": [],
   "source": [
    "# crule = ml.knn.knnClassify( c, np.arange(k), 1 )\n",
    "# # z = crule.predict(XtC)\n",
    "# Phi = lambda x: ml.to1ofK ( crule.predict(x), np.arange(k) )\n",
    "\n",
    "# XtC2 = Phi(Xt)\n",
    "# XvC2 = Phi(Xv)\n",
    "# XeC2 = Phi(Xe)\n",
    "\n",
    "# classifier = ml.linearC.linearClassify(XtC,Yt,reg=1e-3)\n",
    "# PvClass3 = classifier.predictSoft(XvC)[:,0]\n",
    "# PeClass3 = classifier.predictSoft(XeC)[:,0]\n",
    "# print \"3: Clustered Classifier: Error ~\",classifier.err(XvC,Yv),'; AUC = ',auc(PvClass3,Yv)"
   ]
  },
  {
   "cell_type": "code",
   "execution_count": 44,
   "metadata": {
    "collapsed": false
   },
   "outputs": [
    {
     "name": "stdout",
     "output_type": "stream",
     "text": [
      "(array([[  1.00000000e+000,   1.46506585e-063,   1.00000000e+000,\n",
      "          0.00000000e+000,   1.00000000e+000],\n",
      "       [  1.00000000e+000,   1.00000000e+000,   1.00000000e+000,\n",
      "          7.05727305e-280,   1.00000000e+000],\n",
      "       [  1.00000000e+000,   0.00000000e+000,   1.00000000e+000,\n",
      "          0.00000000e+000,   1.00000000e+000],\n",
      "       ..., \n",
      "       [  1.00000000e+000,   1.18155988e-011,   1.00000000e+000,\n",
      "          0.00000000e+000,   1.00000000e+000],\n",
      "       [  1.00000000e+000,   0.00000000e+000,   1.00000000e+000,\n",
      "          0.00000000e+000,   1.00000000e+000],\n",
      "       [  1.00000000e+000,   2.45181168e-070,   1.00000000e+000,\n",
      "          0.00000000e+000,   1.00000000e+000]]), array([[-0.30901297, -1.67600381,  1.15233156,  1.07961859, -0.81336426],\n",
      "       [-1.46642433,  0.52106488, -0.57578797,  0.14195316, -0.31932842],\n",
      "       [ 0.69153875,  0.69474914, -0.72559738, -1.38336396, -1.5829384 ],\n",
      "       [ 0.61037938, -1.18885926, -0.50681635, -0.59631404, -0.0525673 ],\n",
      "       [-1.93627981,  0.1887786 ,  0.52389102,  0.08842209, -0.31088617],\n",
      "       [ 0.09740017,  0.39904635, -2.77259276,  1.95591231,  0.39009332],\n",
      "       [-0.65240858, -0.39095338,  0.49374178, -0.11610394, -2.03068447],\n",
      "       [ 2.06449286, -0.11054066,  1.02017271, -0.69204985,  1.53637705],\n",
      "       [ 0.28634369,  0.60884383, -1.04525337,  1.21114529,  0.68981816],\n",
      "       [ 1.30184623, -0.62808756, -0.48102712,  2.3039167 , -1.06001582],\n",
      "       [-0.1359497 ,  1.13689136,  0.09772497,  0.58295368, -0.39944903],\n",
      "       [ 0.37005589, -1.30652685,  1.65813068, -0.11816405, -0.6801782 ],\n",
      "       [ 0.66638308, -0.46071979, -1.33425847, -1.34671751,  0.69377315],\n",
      "       [-0.15957344, -0.13370156,  1.07774381, -1.12682581, -0.73067775]]))\n"
     ]
    },
    {
     "ename": "ValueError",
     "evalue": "need more than 1 value to unpack",
     "output_type": "error",
     "traceback": [
      "\u001b[0;31m---------------------------------------------------------------------------\u001b[0m",
      "\u001b[0;31mValueError\u001b[0m                                Traceback (most recent call last)",
      "\u001b[0;32m<ipython-input-44-994c49f8e28f>\u001b[0m in \u001b[0;36m<module>\u001b[0;34m()\u001b[0m\n\u001b[1;32m     13\u001b[0m \u001b[1;31m# XeC = Phi(Xe)\u001b[0m\u001b[1;33m\u001b[0m\u001b[1;33m\u001b[0m\u001b[0m\n\u001b[1;32m     14\u001b[0m \u001b[1;33m\u001b[0m\u001b[0m\n\u001b[0;32m---> 15\u001b[0;31m \u001b[0mclassifier\u001b[0m \u001b[1;33m=\u001b[0m \u001b[0mml\u001b[0m\u001b[1;33m.\u001b[0m\u001b[0mlinearC\u001b[0m\u001b[1;33m.\u001b[0m\u001b[0mlinearClassify\u001b[0m\u001b[1;33m(\u001b[0m\u001b[0mXtC\u001b[0m\u001b[1;33m,\u001b[0m\u001b[0mYt\u001b[0m\u001b[1;33m,\u001b[0m\u001b[0mreg\u001b[0m\u001b[1;33m=\u001b[0m\u001b[1;36m1e-3\u001b[0m\u001b[1;33m)\u001b[0m\u001b[1;33m\u001b[0m\u001b[0m\n\u001b[0m\u001b[1;32m     16\u001b[0m \u001b[1;33m\u001b[0m\u001b[0m\n\u001b[1;32m     17\u001b[0m \u001b[1;31m# PvClass3 = classifier.predictSoft(XvC)[:,0]\u001b[0m\u001b[1;33m\u001b[0m\u001b[1;33m\u001b[0m\u001b[0m\n",
      "\u001b[0;32mC:\\Users\\Brian\\Anaconda2\\mltools\\linearC.pyc\u001b[0m in \u001b[0;36m__init__\u001b[0;34m(self, *args, **kwargs)\u001b[0m\n\u001b[1;32m     40\u001b[0m \u001b[1;33m\u001b[0m\u001b[0m\n\u001b[1;32m     41\u001b[0m         \u001b[1;32mif\u001b[0m \u001b[0mlen\u001b[0m\u001b[1;33m(\u001b[0m\u001b[0margs\u001b[0m\u001b[1;33m)\u001b[0m \u001b[1;32mor\u001b[0m \u001b[0mlen\u001b[0m\u001b[1;33m(\u001b[0m\u001b[0mkwargs\u001b[0m\u001b[1;33m)\u001b[0m\u001b[1;33m:\u001b[0m      \u001b[1;31m# if we were given optional arguments,\u001b[0m\u001b[1;33m\u001b[0m\u001b[0m\n\u001b[0;32m---> 42\u001b[0;31m             \u001b[0mself\u001b[0m\u001b[1;33m.\u001b[0m\u001b[0mtrain\u001b[0m\u001b[1;33m(\u001b[0m\u001b[1;33m*\u001b[0m\u001b[0margs\u001b[0m\u001b[1;33m,\u001b[0m\u001b[1;33m**\u001b[0m\u001b[0mkwargs\u001b[0m\u001b[1;33m)\u001b[0m    \u001b[1;31m#  just pass them through to \"train\"\u001b[0m\u001b[1;33m\u001b[0m\u001b[0m\n\u001b[0m\u001b[1;32m     43\u001b[0m \u001b[1;33m\u001b[0m\u001b[0m\n\u001b[1;32m     44\u001b[0m     \u001b[1;31m#@property\u001b[0m\u001b[1;33m\u001b[0m\u001b[1;33m\u001b[0m\u001b[0m\n",
      "\u001b[0;32mC:\\Users\\Brian\\Anaconda2\\mltools\\linearC.pyc\u001b[0m in \u001b[0;36mtrain\u001b[0;34m(self, X, Y, reg, initStep, stopTol, stopIter, plot)\u001b[0m\n\u001b[1;32m     98\u001b[0m         \"\"\"\n\u001b[1;32m     99\u001b[0m         \u001b[0mself\u001b[0m\u001b[1;33m.\u001b[0m\u001b[0mtheta\u001b[0m\u001b[1;33m,\u001b[0m\u001b[0mX\u001b[0m\u001b[1;33m,\u001b[0m\u001b[0mY\u001b[0m \u001b[1;33m=\u001b[0m \u001b[0mtwod\u001b[0m\u001b[1;33m(\u001b[0m\u001b[0mself\u001b[0m\u001b[1;33m.\u001b[0m\u001b[0mtheta\u001b[0m\u001b[1;33m)\u001b[0m\u001b[1;33m,\u001b[0m \u001b[0marr\u001b[0m\u001b[1;33m(\u001b[0m\u001b[0mX\u001b[0m\u001b[1;33m)\u001b[0m\u001b[1;33m,\u001b[0m \u001b[0marr\u001b[0m\u001b[1;33m(\u001b[0m\u001b[0mY\u001b[0m\u001b[1;33m)\u001b[0m   \u001b[1;31m# convert to numpy arrays\u001b[0m\u001b[1;33m\u001b[0m\u001b[0m\n\u001b[0;32m--> 100\u001b[0;31m         \u001b[0mM\u001b[0m\u001b[1;33m,\u001b[0m\u001b[0mN\u001b[0m \u001b[1;33m=\u001b[0m \u001b[0mX\u001b[0m\u001b[1;33m.\u001b[0m\u001b[0mshape\u001b[0m\u001b[1;33m\u001b[0m\u001b[0m\n\u001b[0m\u001b[1;32m    101\u001b[0m         \u001b[0mX1\u001b[0m \u001b[1;33m=\u001b[0m \u001b[0mnp\u001b[0m\u001b[1;33m.\u001b[0m\u001b[0mhstack\u001b[0m\u001b[1;33m(\u001b[0m\u001b[1;33m(\u001b[0m\u001b[0mnp\u001b[0m\u001b[1;33m.\u001b[0m\u001b[0mones\u001b[0m\u001b[1;33m(\u001b[0m\u001b[1;33m(\u001b[0m\u001b[0mM\u001b[0m\u001b[1;33m,\u001b[0m\u001b[1;36m1\u001b[0m\u001b[1;33m)\u001b[0m\u001b[1;33m)\u001b[0m\u001b[1;33m,\u001b[0m\u001b[0mX\u001b[0m\u001b[1;33m)\u001b[0m\u001b[1;33m)\u001b[0m     \u001b[1;31m# make data array with constant feature\u001b[0m\u001b[1;33m\u001b[0m\u001b[0m\n\u001b[1;32m    102\u001b[0m         \u001b[1;32mif\u001b[0m \u001b[0mY\u001b[0m\u001b[1;33m.\u001b[0m\u001b[0mshape\u001b[0m\u001b[1;33m[\u001b[0m\u001b[1;36m0\u001b[0m\u001b[1;33m]\u001b[0m \u001b[1;33m!=\u001b[0m \u001b[0mM\u001b[0m\u001b[1;33m:\u001b[0m\u001b[1;33m\u001b[0m\u001b[0m\n",
      "\u001b[0;31mValueError\u001b[0m: need more than 1 value to unpack"
     ]
    }
   ],
   "source": [
    "#crule = ml.linearC.linearClassify( c, Yt )\n",
    "#Phi = lambda x: ml.to1ofK ( crule.predictSoft(x), np.arange(k) )\n",
    "\n",
    "\n",
    "# XtC = Phi(Xt)\n",
    "# XvC = Phi(Xv)\n",
    "# XeC = Phi(Xe)\n",
    "\n",
    "K=5\n",
    "XtC = ml.transforms.fkitchensink(Xt, K, 'sigmoid')\n",
    "# XvC = Phi(Xv)\n",
    "# XeC = Phi(Xe)\n",
    "\n",
    "classifier = ml.linearC.linearClassify(XtC,Yt,reg=1e-3)\n",
    "\n",
    "# PvClass3 = classifier.predictSoft(XvC)[:,0]\n",
    "# PeClass3 = classifier.predictSoft(XeC)[:,0]\n",
    "# print \"3: Clustered Classifier: Error ~\",classifier.err(XvC,Yv),'; AUC = ',auc(PvClass3,Yv)\n",
    "print \"3: Clustered Classifier: Error ~\",classifier.err(Xv,Yv)"
   ]
  },
  {
   "cell_type": "code",
   "execution_count": null,
   "metadata": {
    "collapsed": true
   },
   "outputs": [],
   "source": []
  }
 ],
 "metadata": {
  "anaconda-cloud": {},
  "kernelspec": {
   "display_name": "Python [conda root]",
   "language": "python",
   "name": "conda-root-py"
  },
  "language_info": {
   "codemirror_mode": {
    "name": "ipython",
    "version": 2
   },
   "file_extension": ".py",
   "mimetype": "text/x-python",
   "name": "python",
   "nbconvert_exporter": "python",
   "pygments_lexer": "ipython2",
   "version": "2.7.12"
  }
 },
 "nbformat": 4,
 "nbformat_minor": 1
}
