{
 "cells": [
  {
   "cell_type": "code",
   "execution_count": 1,
   "metadata": {
    "collapsed": false
   },
   "outputs": [],
   "source": [
    "import numpy as np\n",
    "from sklearn.model_selection import train_test_split\n",
    "\n",
    "X = np.loadtxt('data/X_train.txt')\n",
    "Y = np.loadtxt('data/Y_train.txt')\n",
    "Xe = np.loadtxt('data/X_test.txt')\n",
    "\n",
    "Xt, Xv = X[0:25000], X[25000:50000]\n",
    "Yt, Yv = Y[0:25000], Y[25000:50000]\n",
    "#X_train, X_val, Y_train, Y_val = train_test_split(X_train, y_train, test_size=0.1, random_state=42)"
   ]
  },
  {
   "cell_type": "code",
   "execution_count": 2,
   "metadata": {
    "collapsed": false
   },
   "outputs": [],
   "source": [
    "from sklearn.decomposition import PCA, KernelPCA, TruncatedSVD\n",
    "# svd = TruncatedSVD(n_components=5, n_iter=7, random_state=42)\n",
    "# Xt_new = svd.fit_transform(Xt)\n",
    "# Xt_new = svd.fit_transform(Xv)\n",
    "\n",
    "from sklearn.feature_selection import SelectPercentile\n",
    "# sel = SelectPercentile(percentile=50)\n",
    "# Xt_new = sel.fit_transform(Xt,Yt)\n",
    "# Xv_new = sel.fit_transform(Xv,Yv)\n",
    "\n",
    "from sklearn.feature_selection import SelectKBest, f_classif\n",
    "# Xt_new = SelectKBest(f_classif, k=12).fit_transform(Xt, Yt)\n",
    "# Xv_new = SelectKBest(f_classif, k=12).fit_transform(Xv, Yv)\n",
    "# X_new = Xt_new = SelectKBest(f_classif, k=9).fit_transform(X, Y)\n",
    "\n",
    "from sklearn.linear_model import RandomizedLogisticRegression\n",
    "rl = RandomizedLogisticRegression()\n",
    "Xt_new = rl.fit_transform(Xt, Yt)\n",
    "Xv_new = rl.fit_transform(Xv, Yv)\n"
   ]
  },
  {
   "cell_type": "code",
   "execution_count": 7,
   "metadata": {
    "collapsed": false
   },
   "outputs": [
    {
     "data": {
      "text/plain": [
       "SVC(C=1.0, cache_size=200, class_weight='balanced', coef0=0.0,\n",
       "  decision_function_shape=None, degree=3, gamma='auto', kernel='rbf',\n",
       "  max_iter=-1, probability=True, random_state=None, shrinking=True,\n",
       "  tol=0.001, verbose=False)"
      ]
     },
     "execution_count": 7,
     "metadata": {},
     "output_type": "execute_result"
    }
   ],
   "source": [
    "from sklearn.svm import SVC\n",
    "#clf2 = SVC(C=1.0, gamma=1.0, class_weight='balanced', probability=True)\n",
    "clf2 = SVC(C=1.0, class_weight='balanced', probability=True)\n",
    "clf2.fit(Xt_new, Yt) "
   ]
  },
  {
   "cell_type": "code",
   "execution_count": 8,
   "metadata": {
    "collapsed": false
   },
   "outputs": [
    {
     "name": "stdout",
     "output_type": "stream",
     "text": [
      "SVM: Training Score ~ 0.88928\n",
      "AUC =  0.907932898665\n",
      "SVM: Validation Score ~ 0.63216\n",
      "AUC =  0.614723915672\n"
     ]
    }
   ],
   "source": [
    "from sklearn.metrics import roc_auc_score\n",
    "\n",
    "\n",
    "YtPred = clf2.predict_proba(Xt_new)\n",
    "#YtPred = clf2.predict(Xt_new)\n",
    "print \"SVM: Training Score ~\", clf2.score(Xt_new,Yt)\n",
    "print 'AUC = ',roc_auc_score(Yt, YtPred[:,1])\n",
    "\n",
    "YvPred = clf2.predict_proba(Xv_new)\n",
    "#YvPred = clf2.predict(Xv_new)\n",
    "print \"SVM: Validation Score ~\", clf2.score(Xv_new,Yv)\n",
    "print 'AUC = ',roc_auc_score(Yv, YvPred[:,1])"
   ]
  },
  {
   "cell_type": "code",
   "execution_count": 12,
   "metadata": {
    "collapsed": false
   },
   "outputs": [
    {
     "name": "stdout",
     "output_type": "stream",
     "text": [
      "\n",
      "[ 1.     0.     0.225  0.     0.235  0.45   1.     0.49   0.025  0.26   0.\n",
      "  0.405  0.54   0.655]\n",
      "[[ 1.   ]\n",
      " [ 0.   ]\n",
      " [ 0.225]\n",
      " [ 0.   ]\n",
      " [ 0.235]\n",
      " [ 0.45 ]\n",
      " [ 1.   ]\n",
      " [ 0.49 ]\n",
      " [ 0.025]\n",
      " [ 0.26 ]\n",
      " [ 0.   ]\n",
      " [ 0.405]\n",
      " [ 0.54 ]\n",
      " [ 0.655]]\n",
      "[1, 2, 3, 4, 8, 10]\n"
     ]
    },
    {
     "ename": "NameError",
     "evalue": "name 'Xe_new' is not defined",
     "output_type": "error",
     "traceback": [
      "\u001b[0;31m---------------------------------------------------------------------------\u001b[0m",
      "\u001b[0;31mNameError\u001b[0m                                 Traceback (most recent call last)",
      "\u001b[0;32m<ipython-input-12-007e09862ccf>\u001b[0m in \u001b[0;36m<module>\u001b[0;34m()\u001b[0m\n\u001b[1;32m      8\u001b[0m \u001b[1;31m#Xe_new = np.delete(Xe, [1,3], axis=1)\u001b[0m\u001b[1;33m\u001b[0m\u001b[1;33m\u001b[0m\u001b[0m\n\u001b[1;32m      9\u001b[0m \u001b[1;33m\u001b[0m\u001b[0m\n\u001b[0;32m---> 10\u001b[0;31m \u001b[0mYtePred\u001b[0m \u001b[1;33m=\u001b[0m \u001b[0mclf2\u001b[0m\u001b[1;33m.\u001b[0m\u001b[0mpredict_proba\u001b[0m\u001b[1;33m(\u001b[0m\u001b[0mXe_new\u001b[0m\u001b[1;33m)\u001b[0m\u001b[1;33m[\u001b[0m\u001b[1;33m:\u001b[0m\u001b[1;33m,\u001b[0m\u001b[1;36m1\u001b[0m\u001b[1;33m]\u001b[0m\u001b[1;33m\u001b[0m\u001b[0m\n\u001b[0m\u001b[1;32m     11\u001b[0m np.savetxt('Yhat_SVM.txt',\n\u001b[1;32m     12\u001b[0m     \u001b[0mnp\u001b[0m\u001b[1;33m.\u001b[0m\u001b[0mvstack\u001b[0m\u001b[1;33m(\u001b[0m \u001b[1;33m(\u001b[0m\u001b[0mnp\u001b[0m\u001b[1;33m.\u001b[0m\u001b[0marange\u001b[0m\u001b[1;33m(\u001b[0m\u001b[0mlen\u001b[0m\u001b[1;33m(\u001b[0m\u001b[0mYtePred\u001b[0m\u001b[1;33m)\u001b[0m\u001b[1;33m)\u001b[0m \u001b[1;33m,\u001b[0m \u001b[0mYtePred\u001b[0m\u001b[1;33m)\u001b[0m \u001b[1;33m)\u001b[0m\u001b[1;33m.\u001b[0m\u001b[0mT\u001b[0m\u001b[1;33m,\u001b[0m\u001b[1;33m\u001b[0m\u001b[0m\n",
      "\u001b[0;31mNameError\u001b[0m: name 'Xe_new' is not defined"
     ]
    }
   ],
   "source": [
    "print\n",
    "print rl.scores_\n",
    "print rl.all_scores_\n",
    "\n",
    "del_features = [i for i in range(len(rl.scores_)) if rl.scores_[i] < 0.25]\n",
    "Xe_new = np.delete(Xe, del_features, axis=1)\n",
    "\n",
    "YtePred = clf2.predict_proba(Xe_new)[:,1]\n",
    "np.savetxt('Yhat_SVM.txt',\n",
    "    np.vstack( (np.arange(len(YtePred)) , YtePred) ).T,\n",
    "    '%d, %.2f',header='ID,Prob1',comments='',delimiter=',');\n",
    "\n",
    "\n"
   ]
  },
  {
   "cell_type": "code",
   "execution_count": null,
   "metadata": {
    "collapsed": true
   },
   "outputs": [],
   "source": []
  }
 ],
 "metadata": {
  "kernelspec": {
   "display_name": "Python [conda root]",
   "language": "python",
   "name": "conda-root-py"
  },
  "language_info": {
   "codemirror_mode": {
    "name": "ipython",
    "version": 2
   },
   "file_extension": ".py",
   "mimetype": "text/x-python",
   "name": "python",
   "nbconvert_exporter": "python",
   "pygments_lexer": "ipython2",
   "version": "2.7.12"
  }
 },
 "nbformat": 4,
 "nbformat_minor": 1
}
