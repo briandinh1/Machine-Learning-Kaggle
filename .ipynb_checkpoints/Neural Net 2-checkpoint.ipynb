{
 "cells": [
  {
   "cell_type": "code",
   "execution_count": 1,
   "metadata": {
    "collapsed": true
   },
   "outputs": [],
   "source": [
    "import numpy as np\n",
    "from sklearn.model_selection import train_test_split\n",
    "\n",
    "np.random.seed(0)\n",
    "\n",
    "X = np.loadtxt('data/X_train.txt')\n",
    "Y = np.loadtxt('data/Y_train.txt')\n",
    "Xe = np.loadtxt('data/X_test.txt')\n",
    "\n",
    "Xt, Xv = X[0:50000], X[50000:100000]\n",
    "Yt, Yv = Y[0:50000], Y[50000:100000]"
   ]
  },
  {
   "cell_type": "code",
   "execution_count": 2,
   "metadata": {
    "collapsed": false
   },
   "outputs": [],
   "source": [
    "from sklearn.preprocessing import StandardScaler\n",
    "scaler = StandardScaler()\n",
    "# Fit only to the training data\n",
    "scaler.fit(Xt)\n",
    "\n",
    "# Now apply the transformations to the data:\n",
    "Xt_new = scaler.transform(Xt)\n",
    "Xv_new = scaler.transform(Xv)\n",
    "# X_new = scaler.transform(X)\n",
    "# Xe_new = scaler.transform(Xe)"
   ]
  },
  {
   "cell_type": "code",
   "execution_count": 36,
   "metadata": {
    "collapsed": false
   },
   "outputs": [],
   "source": [
    "from sklearn.neural_network import MLPClassifier\n",
    "from sklearn.metrics import roc_auc_score\n",
    "\n",
    "# You should monitor its performance, preferably on both training & validation data, during backpropagation, \n",
    "# and verify that the training process is working properly and converging to a reasonable performance value \n",
    "# (e.g., comparably to other methods).  Start with few layers (2-3) and moderate numbers of hidden nodes (100-1000) per layer; \n",
    "# within these settings you can work to make sure your model is training adequately.\n",
    "\n",
    "# clf = MLPClassifier(hidden_layer_sizes=(100,100,100), activation='tanh', solver='adam', max_iter=1000, shuffle=True, \n",
    "#                     learning_rate='invscaling', learning_rate_init=0.0001, power_t=0.5, tol=1e-10, verbose=True, \n",
    "#                     early_stopping=True)\n",
    "\n",
    "clf = MLPClassifier(hidden_layer_sizes=(295,295), activation='tanh', solver='adam', max_iter=1000, shuffle=True, \n",
    "                    learning_rate_init=0.001, tol=1e-10, verbose=True, early_stopping=False)\n",
    "\n",
    "clf.fit(Xt_new,Yt)\n",
    "#clf.fit(X_new,Y)\n",
    "\n",
    "# from sklearn.calibration import CalibratedClassifierCV\n",
    "# X_train, X_test, y_train, y_test = train_test_split(Xt_new, Yt, test_size=0.1, random_state=42)\n",
    "# clf_isotonic = CalibratedClassifierCV(clf, cv=2, method='isotonic')\n",
    "# clf_isotonic.fit(X_train, y_train)"
   ]
  },
  {
   "cell_type": "code",
   "execution_count": 35,
   "metadata": {
    "collapsed": false
   },
   "outputs": [
    {
     "name": "stdout",
     "output_type": "stream",
     "text": [
      "Training Score = 0.69346\n",
      "Training AUC = 0.658164450215\n",
      "\n",
      "Validation Score = 0.68814\n",
      "Validation AUC = 0.658354158016\n"
     ]
    },
    {
     "data": {
      "text/plain": [
       "array([ 0.49343232,  0.30091786,  0.21853609, ...,  0.43231796,\n",
       "        0.32068967,  0.35003344])"
      ]
     },
     "execution_count": 35,
     "metadata": {},
     "output_type": "execute_result"
    }
   ],
   "source": [
    "print 'Training Score =',clf.score(Xt_new,Yt)\n",
    "Ytpred = clf.predict_proba(Xt_new)\n",
    "print 'Training AUC =',roc_auc_score(Yt, Ytpred[:,1])\n",
    "print\n",
    "print 'Validation Score =',clf.score(Xv_new,Yv)\n",
    "Yvpred = clf.predict_proba(Xv_new)\n",
    "print 'Validation AUC =',roc_auc_score(Yv, Yvpred[:,1])\n",
    "\n",
    "# print 'Training Score =',clf_isotonic.score(Xt_new,Yt)\n",
    "# Ytpred = clf_isotonic.predict_proba(Xt_new)\n",
    "# print 'Training AUC =',roc_auc_score(Yt, Ytpred[:,1])\n",
    "# print\n",
    "# print 'Validation Score =',clf_isotonic.score(Xv_new,Yv)\n",
    "# Yvpred = clf_isotonic.predict_proba(Xv_new)\n",
    "# print 'Validation AUC =',roc_auc_score(Yv, Yvpred[:,1])\n",
    "# clf_isotonic.predict_proba(X_test)[:, 1]"
   ]
  },
  {
   "cell_type": "code",
   "execution_count": 5,
   "metadata": {
    "collapsed": false
   },
   "outputs": [],
   "source": [
    "# YtePred = clf.predict_proba(Xe_new)[:,1]\n",
    "# np.savetxt('Yhat_NNet.txt',\n",
    "#     np.vstack( (np.arange(len(YtePred)) , YtePred) ).T,\n",
    "#     '%d, %.2f',header='ID,Prob1',comments='',delimiter=',');"
   ]
  },
  {
   "cell_type": "code",
   "execution_count": null,
   "metadata": {
    "collapsed": true
   },
   "outputs": [],
   "source": []
  }
 ],
 "metadata": {
  "anaconda-cloud": {},
  "kernelspec": {
   "display_name": "Python [conda root]",
   "language": "python",
   "name": "conda-root-py"
  },
  "language_info": {
   "codemirror_mode": {
    "name": "ipython",
    "version": 2
   },
   "file_extension": ".py",
   "mimetype": "text/x-python",
   "name": "python",
   "nbconvert_exporter": "python",
   "pygments_lexer": "ipython2",
   "version": "2.7.12"
  }
 },
 "nbformat": 4,
 "nbformat_minor": 1
}
